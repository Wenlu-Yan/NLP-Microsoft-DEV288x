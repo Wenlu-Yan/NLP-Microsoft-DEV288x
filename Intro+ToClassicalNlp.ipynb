{
 "cells": [
  {
   "cell_type": "markdown",
   "metadata": {},
   "source": [
    "# Introduction to Classical Natural Language Processing "
   ]
  },
  {
   "cell_type": "markdown",
   "metadata": {},
   "source": [
    "This notebook is a hands-on intro to Classical NLP. The topics covered align with the NLP tasks related to various stages of the NLP pipeline: text processing, text exploration, building features and application level tasks. \n",
    "\n",
    "http://www.nltk.org"
   ]
  },
  {
   "cell_type": "markdown",
   "metadata": {},
   "source": [
    "# 1. Introduction "
   ]
  },
  {
   "cell_type": "markdown",
   "metadata": {},
   "source": [
    "1.1 NLTK Setup"
   ]
  },
  {
   "cell_type": "code",
   "execution_count": 1,
   "metadata": {},
   "outputs": [
    {
     "name": "stdout",
     "output_type": "stream",
     "text": [
      "showing info https://raw.githubusercontent.com/nltk/nltk_data/gh-pages/index.xml\n"
     ]
    },
    {
     "data": {
      "text/plain": [
       "True"
      ]
     },
     "execution_count": 1,
     "metadata": {},
     "output_type": "execute_result"
    }
   ],
   "source": [
    "import nltk\n",
    "nltk.download()"
   ]
  },
  {
   "cell_type": "markdown",
   "metadata": {},
   "source": [
    "** 1.2 Crash Course in Regular Expressions **\n",
    "\n",
    "Regular Expression are a great tool for NLP. They can be used interactively or for rule-based seraching and transformation in programs. \n",
    "\n",
    "A cheat sheet for the SEARCH BASICS. \n",
    "\n",
    "|Operator|Meaning|Example|Example meaning|\n",
    "|--|-------------------------------|\n",
    "|+|one or more| a+|look for 1 or more \"a\" characters|\n",
    "|*|zero or more | a*|look for 0 or more \"a\" characters|\n",
    "|?|optional| a?|look for 0 or 1 \"a\"characters|\n",
    "|[]|choose 1| [abc]|look for \"a\" or \"b\" or \"c\"|\n",
    "|[-]|range|[a-z]|look for any character between \"a\" and \"z\"|\n",
    "|[^]|not| [^a]|look for character that is not \"a\"|\n",
    "|()|grouping| (a-z)+|look for one of more occurences of chars between \"a\" and \"z\"|\n",
    "|ab|follow|ab|look for character \"a\" followed by chatacter\"b\"|\n",
    "|^|start|^a|look for character \"a\" at start of string/line|\n",
    "|\\s|whitespace|\\sa|look for whitespace character followed by \"a\"|\n",
    "|.|any character|a.b|look for \"a\" followed by any char followed by \"b\"|\n",
    "\n",
    "1. (|), or operator, (ey|ax)+ , look for strings \"ey\" or \"ax\"\n",
    "2.  $, end, a$, look for character \"a\" at end of string/line\n",
    "\n",
    " \n",
    "Common Uses:\n",
    "\n",
    "- re.search    finds first matching object\n",
    "- re.findall   returns all matching objects\n",
    "- re.sub       replaces matches with replacement string\n"
   ]
  },
  {
   "cell_type": "code",
   "execution_count": 1,
   "metadata": {},
   "outputs": [
    {
     "data": {
      "text/plain": [
       "['c', 'a', 's', 'h']"
      ]
     },
     "execution_count": 1,
     "metadata": {},
     "output_type": "execute_result"
    }
   ],
   "source": [
    "#find all occurences of any character between \"a\" and \"z\"\n",
    "import re\n",
    "re.findall(\"[a-z]\", \"$34.33 cash.\")"
   ]
  },
  {
   "cell_type": "code",
   "execution_count": 3,
   "metadata": {},
   "outputs": [
    {
     "data": {
      "text/plain": [
       "['name', 'phone']"
      ]
     },
     "execution_count": 3,
     "metadata": {},
     "output_type": "execute_result"
    }
   ],
   "source": [
    "#find all occurences of either \"name:\" or \"phone:\"\n",
    "re.findall(\"(name|phone):\",\"My name: Joe, my phone: (312)555-1212\")"
   ]
  },
  {
   "cell_type": "code",
   "execution_count": 4,
   "metadata": {},
   "outputs": [
    {
     "data": {
      "text/plain": [
       "['Lion', 'lion']"
      ]
     },
     "execution_count": 4,
     "metadata": {},
     "output_type": "execute_result"
    }
   ],
   "source": [
    "#find \"lion\", \"lions\" or \"Lion\", or \"Lions\"\n",
    "re.findall(\"([lL]ion)s?\",\"Give it to the Lions or the lion.\")\n"
   ]
  },
  {
   "cell_type": "code",
   "execution_count": 5,
   "metadata": {},
   "outputs": [
    {
     "data": {
      "text/plain": [
       "'Hxx. I xxxx xxxx xxxxx xxxxx...'"
      ]
     },
     "execution_count": 5,
     "metadata": {},
     "output_type": "execute_result"
    }
   ],
   "source": [
    "#replace alll lowercase letters with \"x\"\n",
    "re.sub(\"[a-z]\",\"x\",\"Hey. I know this regex stuff...\")"
   ]
  },
  {
   "cell_type": "markdown",
   "metadata": {},
   "source": [
    "# 2. Text Processing "
   ]
  },
  {
   "cell_type": "markdown",
   "metadata": {},
   "source": [
    "This section introduces some of the tasks and techniques used to acqure, clean and normalize the text data"
   ]
  },
  {
   "cell_type": "markdown",
   "metadata": {},
   "source": [
    "### 2.1 Data Acquisition \n",
    "\n",
    "* where do i get the data i need  \n",
    "* is it already in digital or it need OCR\n",
    "* how much will it cost \n",
    "* will it be updated/expanded over time? more costs?\n",
    "* if it is customer data, do i have the legal privacy rights needed to use the data in the way I need for my application? \n",
    "* do i have the safeguard needed to securely share the data? "
   ]
  },
  {
   "cell_type": "code",
   "execution_count": 7,
   "metadata": {},
   "outputs": [
    {
     "name": "stdout",
     "output_type": "stream",
     "text": [
      "gutenberg book ids= ['austen-emma.txt', 'austen-persuasion.txt', 'austen-sense.txt', 'bible-kjv.txt', 'blake-poems.txt', 'bryant-stories.txt', 'burgess-busterbrown.txt', 'carroll-alice.txt', 'chesterton-ball.txt', 'chesterton-brown.txt', 'chesterton-thursday.txt', 'edgeworth-parents.txt', 'melville-moby_dick.txt', 'milton-paradise.txt', 'shakespeare-caesar.txt', 'shakespeare-hamlet.txt', 'shakespeare-macbeth.txt', 'whitman-leaves.txt']\n"
     ]
    }
   ],
   "source": [
    "import nltk \n",
    "# show how to access one of the gutenberg books included in NLTK \n",
    "print (\"gutenberg book ids=\", nltk.corpus.gutenberg.fileids())\n",
    "# The result shows the name of the books that is available "
   ]
  },
  {
   "cell_type": "code",
   "execution_count": 11,
   "metadata": {},
   "outputs": [
    {
     "name": "stdout",
     "output_type": "stream",
     "text": [
      "len(alice)= 34110\n",
      "['[', 'Alice', \"'\", 's', 'Adventures', 'in', 'Wonderland', 'by', 'Lewis', 'Carroll', '1865', ']', 'CHAPTER', 'I', '.', 'Down', 'the', 'Rabbit', '-', 'Hole', 'Alice', 'was', 'beginning', 'to', 'get', 'very', 'tired', 'of', 'sitting', 'by', 'her', 'sister', 'on', 'the', 'bank', ',', 'and', 'of', 'having', 'nothing', 'to', 'do', ':', 'once', 'or', 'twice', 'she', 'had', 'peeped', 'into', 'the', 'book', 'her', 'sister', 'was', 'reading', ',', 'but', 'it', 'had', 'no', 'pictures', 'or', 'conversations', 'in', 'it', ',', \"'\", 'and', 'what', 'is', 'the', 'use', 'of', 'a', 'book', \",'\", 'thought', 'Alice', \"'\", 'without', 'pictures', 'or', 'conversation', \"?'\", 'So', 'she', 'was', 'considering', 'in', 'her', 'own', 'mind', '(', 'as', 'well', 'as', 'she', 'could', ',']\n"
     ]
    }
   ],
   "source": [
    "# load words from \"Alice in wonderland\"\n",
    "\n",
    "alice = nltk.corpus.gutenberg.words(\"carroll-alice.txt\")\n",
    "print (\"len(alice)=\", len(alice))\n",
    "print (alice[:100])"
   ]
  },
  {
   "cell_type": "code",
   "execution_count": 13,
   "metadata": {},
   "outputs": [
    {
     "name": "stdout",
     "output_type": "stream",
     "text": [
      "len(grail)= 16967\n",
      "['SCENE', '1', ':', '[', 'wind', ']', '[', 'clop', 'clop', 'clop', ']', 'KING', 'ARTHUR', ':', 'Whoa', 'there', '!', '[', 'clop', 'clop', 'clop', ']', 'SOLDIER', '#', '1', ':', 'Halt', '!', 'Who', 'goes', 'there', '?', 'ARTHUR', ':', 'It', 'is', 'I', ',', 'Arthur', ',', 'son', 'of', 'Uther', 'Pendragon', ',', 'from', 'the', 'castle', 'of', 'Camelot', '.', 'King', 'of', 'the', 'Britons', ',', 'defeator', 'of', 'the', 'Saxons', ',', 'sovereign', 'of', 'all', 'England', '!', 'SOLDIER', '#', '1', ':', 'Pull', 'the', 'other', 'one', '!', 'ARTHUR', ':', 'I', 'am', ',', '...', 'and', 'this', 'is', 'my', 'trusty', 'servant', 'Patsy', '.', 'We', 'have', 'ridden', 'the', 'length', 'and', 'breadth', 'of', 'the', 'land', 'in']\n"
     ]
    }
   ],
   "source": [
    "# load words from \"\"\n",
    "\n",
    "grail = nltk.corpus.webtext.words(\"grail.txt\")\n",
    "print(\"len(grail)=\", len(grail))\n",
    "print (grail[:100])\n"
   ]
  },
  {
   "cell_type": "markdown",
   "metadata": {},
   "source": [
    "### 2.2 Plain Text Extraction"
   ]
  },
  {
   "cell_type": "markdown",
   "metadata": {},
   "source": [
    "If your text data lives in a non-plain text file(WORD,POWERPOINT,PDF,HTML,etc), you will need to use a \"filter\" to extract the plain text from the file. Python has a number of libraries to extract plain text from popular formats but they are take seraching and supporting code to use. "
   ]
  },
  {
   "cell_type": "markdown",
   "metadata": {},
   "source": [
    "### 2.3 Word and Sentence Segmentation ( Tokenization) "
   ]
  },
  {
   "cell_type": "markdown",
   "metadata": {},
   "source": [
    "Word Segmentation Issues: \n",
    "* some languages do not white space characters \n",
    "* Words with hyphens or apostrophes ( Who's at the drive-in?) \n",
    "* Numbers, currency, percentages, dates, times (04/01/2018, $55.000.00)\n",
    "* Elipses, special characters \n",
    "\n",
    "Sentence segmentation issues: \n",
    "* Quoted speech with a sentence \n",
    "* abbreviations with periods (The Ph.D. was D.O.A)\n",
    "\n",
    "Tokenization Techniques \n",
    "* Perl script( 50 lines) with RegEx\n",
    "* maxmatch algorithm: (Maxmatch Algorithm tries to find the largest word at the current position and then segments that and then advances on. This is normally used in languages without space characters.)\n",
    "\n",
    "* themanranafterit -> the man ran after it \n",
    "* thetabledownthere -> theta bled own there \n",
    "(So one of the classic problems with this is if the sentence like this)"
   ]
  },
  {
   "cell_type": "code",
   "execution_count": null,
   "metadata": {},
   "outputs": [
    {
     "name": "stdout",
     "output_type": "stream",
     "text": [
      "['the', 'man', 'ran', 'after', 'it']\n"
     ]
    }
   ],
   "source": [
    "#code example : simple version of maxmatch algorithm for tokenization and segmentation \n",
    "def tokenize(str, dict): \n",
    "    s = 0\n",
    "    words =[]\n",
    "    \n",
    "    while (s<len(str)):\n",
    "        \n",
    "        #find biggest and in dictionary that matches str[s:xxx]\n",
    "        for word in dict:\n",
    "            lw =len(word)\n",
    "            if(str[s:s+lw] == word):\n",
    "                words.append(word)\n",
    "                s +=lw\n",
    "                found = True\n",
    "                break\n",
    "        if (not found): \n",
    "            words.append(str[s])\n",
    "            s += 1\n",
    "    print (words)\n",
    "    #retrun words \n",
    "    \n",
    "# small dictionary of know words, largest words first \n",
    "dict = [\"before\",\"table\",\"after\", \"where\", \"there\", \"bled\", \"said\", \"lead\", \"man\", \"her\", \"own\", \"the\",\"ran\",\"it\"]\n",
    "\n",
    "# this algorithms is designed to work with languages that do not have whitespace characters \n",
    "# so simulate that in our test \n",
    "\n",
    "tokenize(\"themanranafterit\",dict)  #works\n",
    "tokenize(\"thetabledownthere\",dict) #fails"
   ]
  },
  {
   "cell_type": "code",
   "execution_count": 3,
   "metadata": {},
   "outputs": [
    {
     "data": {
      "text/plain": [
       "['the',\n",
       " 'man',\n",
       " ',',\n",
       " 'the',\n",
       " 'ran',\n",
       " 'after',\n",
       " 'it',\n",
       " \"'s\",\n",
       " '$',\n",
       " '3.23',\n",
       " 'dog',\n",
       " 'on',\n",
       " '03/23/2016',\n",
       " '.']"
      ]
     },
     "execution_count": 3,
     "metadata": {},
     "output_type": "execute_result"
    }
   ],
   "source": [
    "#NLTK example word segmentation\n",
    "nltk.word_tokenize(\"the man, the ran after it's $3.23 dog on 03/23/2016.\")"
   ]
  },
  {
   "cell_type": "code",
   "execution_count": null,
   "metadata": {
    "collapsed": true
   },
   "outputs": [],
   "source": [
    "#NLTK example SENTNCE segmentation\n",
    "nltk.sent_tokenize(\"The man ran after it. The table down there? Yes, down there!\")"
   ]
  },
  {
   "cell_type": "markdown",
   "metadata": {},
   "source": [
    "### 2.4 Stopword Removal"
   ]
  },
  {
   "cell_type": "markdown",
   "metadata": {},
   "source": [
    "Stopwords are common words that are not interesting for the app task at hand. So these can be things like 'a',\n",
    "'the', 'and', 'as', 'um', especially when you're looking for frequency distributions in documents. These little words don't add a lot of meaning, and it sort of get in the way.\n",
    "* Easy part - removing words that appear in list \n",
    "* Tricy part - what to use for stop words? app-dependent, standard lists, high frequencey words in your text,..."
   ]
  },
  {
   "cell_type": "code",
   "execution_count": 4,
   "metadata": {},
   "outputs": [
    {
     "data": {
      "text/plain": [
       "'test stop word removal code.'"
      ]
     },
     "execution_count": 4,
     "metadata": {},
     "output_type": "execute_result"
    }
   ],
   "source": [
    "# code example: simple algorithm for removing stopwords\n",
    "stoppers = \"a is of the this\".split()\n",
    "\n",
    "def removeStopWords(stopWords, txt):\n",
    "    newtxt = ' '.join([word for word in txt.split() if word not in stopWords])\n",
    "    return newtxt\n",
    "\n",
    "removeStopWords(stoppers, \"this is a test of the stop word removal code.\")"
   ]
  },
  {
   "cell_type": "code",
   "execution_count": 5,
   "metadata": {},
   "outputs": [
    {
     "name": "stdout",
     "output_type": "stream",
     "text": [
      "len(stops)= 179\n"
     ]
    },
    {
     "data": {
      "text/plain": [
       "'test stop word removal code.'"
      ]
     },
     "execution_count": 5,
     "metadata": {},
     "output_type": "execute_result"
    }
   ],
   "source": [
    "# NLTK example: removing stopwords\n",
    "from nltk.corpus import stopwords\n",
    "stops = stopwords.words(\"English\")\n",
    "\n",
    "print(\"len(stops)=\", len(stops))\n",
    "\n",
    "removeStopWords(stops, \"this is a test of the stop word removal code.\")"
   ]
  },
  {
   "cell_type": "markdown",
   "metadata": {
    "collapsed": true
   },
   "source": [
    "### 2.5 Case Removal "
   ]
  },
  {
   "cell_type": "markdown",
   "metadata": {},
   "source": [
    "case removal is part of a larger task called Text Normalization which includes:\n",
    "    - case removal \n",
    "    - stemming\n",
    "Goal of case removal - converting all text to for example, lower case"
   ]
  },
  {
   "cell_type": "code",
   "execution_count": 1,
   "metadata": {},
   "outputs": [
    {
     "data": {
      "text/plain": [
       "'the main ran after it. the table down there? yes, down there!'"
      ]
     },
     "execution_count": 1,
     "metadata": {},
     "output_type": "execute_result"
    }
   ],
   "source": [
    "str =  \"The main ran after it. The table down there? Yes, down there!\"\n",
    "str.lower()"
   ]
  },
  {
   "cell_type": "markdown",
   "metadata": {},
   "source": [
    "### 2.6 Stemming "
   ]
  },
  {
   "cell_type": "markdown",
   "metadata": {},
   "source": [
    "Goal of stemming - strpping of endings and other places called AFFIEXS - for english it is prefixes and suffixes. \n",
    "\n",
    "Stemming is the second half of normalization, and this is taking words that have affixes on them like 'ing' or 'ed' or maybe prefixes like 'un', and removing those such that we get a base word. And the base word doesn't have to be a complete word. It just has to be something reliable that we get from all the variations.\n",
    "\n",
    "- convert word to its base word, called the LEMMA / STEM (e.g., foxes -> fox)\n",
    "\n",
    "Porter Stemmer\n",
    "* 100+ cascading \"rewrite\" rules\n",
    "* ational -> ate (e.g., relational -> relate)\n",
    "* ing -> (e.g., playing -> play)\n",
    "* sess -> ss (e.g., grasses -> grass)\n",
    "\n",
    "\n",
    "\n"
   ]
  },
  {
   "cell_type": "code",
   "execution_count": 8,
   "metadata": {},
   "outputs": [
    {
     "name": "stdout",
     "output_type": "stream",
     "text": [
      "porter: ['pleas', \"don't\", 'unbuckl', 'your', 'seat-belt', 'while', 'I', 'am', 'driving,', 'he', 'said']\n",
      "\n",
      "lancaster: ['pleas', \"don't\", 'unbuckl', 'yo', 'seat-belt', 'whil', 'i', 'am', 'driving,', 'he', 'said']\n"
     ]
    }
   ],
   "source": [
    "# NLTK example: stemming\n",
    "\n",
    "def stem_with_porter(words):\n",
    "    porter = nltk.PorterStemmer()\n",
    "    new_words = [porter.stem(w) for w in words]\n",
    "    return new_words\n",
    "\n",
    "def stem_with_lancaster(words):\n",
    "    porter = nltk.LancasterStemmer()\n",
    "    new_words = [porter.stem(w) for w in words]\n",
    "    return new_words\n",
    "\n",
    "str = \"Please don't unbuckle your seat-belt while I am driving, he said\"\n",
    "\n",
    "print(\"porter:\", stem_with_porter(str.split()))\n",
    "print()\n",
    "print(\"lancaster:\", stem_with_lancaster(str.split()))"
   ]
  },
  {
   "cell_type": "markdown",
   "metadata": {},
   "source": [
    "\n",
    "## 3. Text Exploration\n",
    "## 3.1 Frequency Analysis\n",
    "\n",
    "    - Frequency Analysis\n",
    "    - Letter\n",
    "    - Word\n",
    "    - Bigrams\n",
    "    - Plots\n"
   ]
  },
  {
   "cell_type": "code",
   "execution_count": 9,
   "metadata": {},
   "outputs": [
    {
     "data": {
      "image/png": "[encoded data removed]",
      "text/plain": [
       "<matplotlib.figure.Figure at 0x110f71c88>"
      ]
     },
     "metadata": {},
     "output_type": "display_data"
    }
   ],
   "source": [
    "# NLTK example: frequence analysis\n",
    "import nltk\n",
    "from nltk.corpus import gutenberg\n",
    "from nltk.probability import FreqDist\n",
    "\n",
    "# get raw text from \"Sense and Sensibility\" by Jane Austen\n",
    "raw = gutenberg.raw(\"austen-sense.txt\")\n",
    "fd_letters = FreqDist(raw)\n",
    "\n",
    "words = gutenberg.words(\"austen-sense.txt\")\n",
    "fd_words = FreqDist(words)\n",
    "sas = nltk.Text(words)\n",
    "\n",
    "# these 2 lines let us size the freq dist plot\n",
    "import matplotlib.pyplot as plt\n",
    "plt.figure(figsize=(20,5))\n",
    "\n",
    "# frequency plot for letters from SAS\n",
    "fd_letters.plot(100)"
   ]
  },
  {
   "cell_type": "code",
   "execution_count": 10,
   "metadata": {},
   "outputs": [
    {
     "data": {
      "image/png": "[encoded data removed]",
      "text/plain": [
       "<matplotlib.figure.Figure at 0x1109e3eb8>"
      ]
     },
     "metadata": {},
     "output_type": "display_data"
    }
   ],
   "source": [
    "# these 2 lines let us size the freq dist plot\n",
    "import matplotlib.pyplot as plt\n",
    "plt.figure(figsize=(20, 5))\n",
    "\n",
    "# frequency plot for words from SAS\n",
    "fd_words.plot(50)"
   ]
  },
  {
   "cell_type": "markdown",
   "metadata": {},
   "source": [
    "## 3.2 Collocations\n",
    "\n",
    "These are interesting word pairs, usually formed by the most common bigrams. Bigrams are collections of word pairs that occur together in the text.\n"
   ]
  },
  {
   "cell_type": "code",
   "execution_count": 11,
   "metadata": {},
   "outputs": [
    {
     "name": "stdout",
     "output_type": "stream",
     "text": [
      "Colonel Brandon; Sir John; Lady Middleton; Miss Dashwood; every thing;\n",
      "thousand pounds; dare say; Miss Steeles; said Elinor; Miss Steele;\n",
      "every body; John Dashwood; great deal; Harley Street; Berkeley Street;\n",
      "Miss Dashwoods; young man; Combe Magna; every day; next morning\n"
     ]
    }
   ],
   "source": [
    "# Let's look at collocations for our \"Sense and Sensibility\" text\n",
    "sas.collocations()"
   ]
  },
  {
   "cell_type": "markdown",
   "metadata": {},
   "source": [
    "## 3.3 Long words\n",
    "\n",
    "Sometimes looking at the long words in a text can be revealing. Let's try it on sas.\n"
   ]
  },
  {
   "cell_type": "code",
   "execution_count": 12,
   "metadata": {},
   "outputs": [
    {
     "data": {
      "text/plain": [
       "['contemptuously',\n",
       " 'aggrandizement',\n",
       " 'insignificance',\n",
       " 'insurmountable',\n",
       " 'misconstruction',\n",
       " 'demonstrations',\n",
       " 'disappointments',\n",
       " 'considerations',\n",
       " 'reasonableness',\n",
       " 'circumspection',\n",
       " 'reconciliation',\n",
       " 'disappointment',\n",
       " 'congratulating',\n",
       " 'correspondence',\n",
       " 'unexhilarating']"
      ]
     },
     "execution_count": 12,
     "metadata": {},
     "output_type": "execute_result"
    }
   ],
   "source": [
    "# Let's look at long wods in the text\n",
    "longWords = [w for w in set(words) if len(w) > 13]\n",
    "longWords[:15]"
   ]
  },
  {
   "cell_type": "markdown",
   "metadata": {},
   "source": [
    "## 3.3 Concordance Views\n",
    "\n",
    "Concordance views, also called Keywords in Context (KWIC), show the specified word with the words that surround it in text. These views can be helpful in understanding how the words are being used in the text.\n"
   ]
  },
  {
   "cell_type": "code",
   "execution_count": 13,
   "metadata": {},
   "outputs": [
    {
     "name": "stdout",
     "output_type": "stream",
     "text": [
      "Displaying 2 of 2 matches:\n",
      "before . She took them all most affectionately by the hand , and expressed gre\n",
      "ed , took her hand , kissed her affectionately several times , and then gave w\n",
      "\n",
      "Displaying 4 of 4 matches:\n",
      "ould not be maintained if their correspondence were to pass through Sir John '\n",
      "ve been Edward ' s gift ; but a correspondence between them by letter , could \n",
      "she had no doubt , and of their correspondence she was not astonished to hear \n",
      "e of Edward afforded her by the correspondence , for his name was not even men\n",
      "\n",
      "Displaying 25 of 36 matches:\n",
      " not know what he was talking of , I dare say ; ten to one but he was light - \n",
      "l . The assistance he thought of , I dare say , was only such as might be reas\n",
      "g , if I have plenty of money , as I dare say I shall , we may think about bui\n",
      ", you will make conquests enough , I dare say , one way or other . Poor Brando\n",
      "e . He is the curate of the parish I dare say .\" \" No , THAT he is not . He is\n",
      "m . He was afraid of catching cold I dare say , and invented this trick for ge\n",
      "ve it in my power to return , that I dare not engage for it at all .\" \" Oh ! h\n",
      "and as like him as she can stare . I dare say the Colonel will leave her all h\n",
      "t Miss Williams and , by the bye , I dare say it is , because he looked so con\n",
      " \" are of such a nature -- that -- I dare not flatter myself \"-- He stopt . Mr\n",
      "nd MY wealth are very much alike , I dare say ; and without them , as the worl\n",
      " unites beauty with utility -- and I dare say it is a picturesque one too , be\n",
      ", you know . Not above ten miles , I dare say .\" \" Much nearer thirty ,\" said \n",
      "h my uncle at Weymouth . However , I dare say we should have seen a great deal\n",
      "t if mama had not objected to it , I dare say he would have liked it of all th\n",
      "ill think my question an odd one , I dare say ,\" said Lucy to her one day , as\n",
      "an inquiry into her character .\" \" I dare say you are , and I am sure I do not\n",
      "ave had no idea of it before ; for I dare say he never dropped the smallest hi\n",
      "or she would never approve of it , I dare say . I shall have no fortune , and \n",
      " to Elinor . \" You know his hand , I dare say , a charming one it is ; but tha\n",
      "o well as usual .-- He was tired , I dare say , for he had just filled the she\n",
      "talking of their favourite beaux , I dare say .\" \" No sister ,\" cried Lucy , \"\n",
      "ng significantly round at them , \" I dare say Lucy ' s beau is quite as modest\n",
      " , for you are a party concerned . I dare say you have seen enough of Edward t\n",
      "h pleasure to meet you there ! But I dare say you will go for all that . To be\n",
      "\n"
     ]
    }
   ],
   "source": [
    "# Let's try looking at some of these recent words in a Concordance view\n",
    "sas.concordance(\"affectionately\")\n",
    "print()\n",
    "\n",
    "sas.concordance(\"correspondence\")\n",
    "print()\n",
    "\n",
    "sas.concordance(\"dare\")\n",
    "print()"
   ]
  },
  {
   "cell_type": "markdown",
   "metadata": {},
   "source": [
    "##  3.4 Other Exploration Task/Views"
   ]
  },
  {
   "cell_type": "code",
   "execution_count": 14,
   "metadata": {},
   "outputs": [
    {
     "name": "stdout",
     "output_type": "stream",
     "text": [
      "attention time regard mother love heart opinion sister wishes wife\n",
      "arrival marianne kindness family it marriage sisters sake conduct mind\n"
     ]
    }
   ],
   "source": [
    "# look at words similar to a word\n",
    "sas.similar(\"affection\")"
   ]
  },
  {
   "cell_type": "code",
   "execution_count": 15,
   "metadata": {},
   "outputs": [
    {
     "data": {
      "image/png": "[encoded data removed]",
      "text/plain": [
       "<matplotlib.figure.Figure at 0x1a1fd67438>"
      ]
     },
     "metadata": {},
     "output_type": "display_data"
    }
   ],
   "source": [
    "# these 2 lines let us size the freq dist plot\n",
    "import matplotlib.pyplot as plt\n",
    "plt.figure(figsize=(15,4))\n",
    "\n",
    "# look at words as they appear over time in the book/document\n",
    "sas.dispersion_plot([\"sense\", \"love\", \"heart\", \"listen\", \"man\", \"woman\"])\n"
   ]
  },
  {
   "cell_type": "markdown",
   "metadata": {},
   "source": [
    "# 4. Building Features\n",
    "## 4.1 Bag-of-Words (BOW)\n",
    "\n",
    "One of the simplest features when dealing with multiple texts (like multiple documents, or multiple sentences within a document), is called Bag-of-Words. It builds a vocabular from each word in the set of texts, and then a feature for each word, indicate the presence/absence of that word within each text. Sometimes, the count of the word is used in place of a presence flag.\n",
    "\n",
    "A common way to represent a set of features like this is called a One-Hot vector. For example, lets say our vocabular from our set of texts is: \n",
    "\n",
    "    today, here, I, a, fine, sun, moon, bird, saw\n",
    "\n",
    "The sentence we want to build a BOW for is:\n",
    "    \n",
    "    I saw a bird today.\n",
    "\n",
    "Using a 1/0 for each word in the vocabulary, our BOW encoded as a one-hot vector would be:\n",
    "    \n",
    "    1 0 1 1 0 0 0 1 1 "
   ]
  },
  {
   "cell_type": "markdown",
   "metadata": {},
   "source": [
    "# 4.2 N-Grams\n",
    "\n",
    "N-grams represent the sequence of N words that are found in a text. They are commonly used as a model of the text language since they represent the frequence of words/phrases appearing in the text.\n",
    "\n",
    "Common types of N-grams:\n",
    "\n",
    "    unigrams - these are the set of single words appearing in the text\n",
    "    bigrams - these are the set of word pairs, like \"good day\" or \"big deal\", from the text\n",
    "    trigrams - these are the set of word triples, like \"really good food\", from the text\n",
    "\n",
    "To build bigrams for a text, you need to extract all possible word pairs from the text and count how many times each pair occurs. Then, you can use the top N words (1000), or the top percent (50%) as your language model.\n"
   ]
  },
  {
   "cell_type": "markdown",
   "metadata": {},
   "source": [
    "\n",
    "# 4.3 Morphological Parsing\n",
    "\n",
    "Goal : convert input word into its morphological parts. For example: \"geese\" would return goose + N + PL\n",
    "\n",
    "Morphological Parsing: geese -> goose + N + PL, caught -> catch + V + PastPart\n",
    "\n",
    "Morphological parsing is related to stemming, but instead of mapping the word variants to a stem word, it labels the stem word and its affixes.\n",
    "\n",
    "Morphological parsing, even for English, is quite involved.\n"
   ]
  },
  {
   "cell_type": "markdown",
   "metadata": {},
   "source": [
    "## 4.4 TD/IDF\n",
    "\n",
    "TD/IDF stands for Term Document Inverse Document Frequency. \"Term\" here can be thought of as a word. This is a measure of the relative importance of a word within a document, in the context of multiple documents.\n",
    "\n",
    "We start with the TD part - this is simply a normalized frequency of the word in the document:\n",
    "\n",
    "    (word count in document) / (total words in document)\n",
    "\n",
    "The IDF is a weighting of the uniquess of the word across all of the documents. Here is the complete formula of TD/IDF: \n",
    "\n",
    "    td_idf(t,d) = wc(t,d)/wc(d)/ dc(t)/dc()\n",
    "\n",
    "    where:\n",
    "        wc(td) = # of occurrences of term t in doc d\n",
    "        wc(d) = # of words in doc d\n",
    "        dc(t) = # of docs that contain at least 1 occurrence of term t\n",
    "        dc() = # of docs in collection \n",
    "\n",
    "\n"
   ]
  },
  {
   "cell_type": "markdown",
   "metadata": {},
   "source": [
    "## 4.5 Word Sense Disambiguation ( WSD) \n",
    "\n",
    "Related to POS tagging, WSD is use to distinguish between difference senses of a word. Each sense of the word uses the same POS tag, but means something different. In parts of speech tagging, you want to tag each word to sentence with\n",
    "the kind of a tag that denotes like this is a verb or a noun or an adjective.  But in word sense disambiguation,\n",
    "you have a word that is the same word tagging, if you will, but has a different sense.\n",
    "\n",
    "for example: \n",
    "\n",
    "    - she served the king\n",
    "    - she served the ball\n",
    "\n",
    "(served is a verb, but they mean different things. She served the king is serving him dinner or serving him a drink or something. And she served the ball was like playing tennis and the ball has been served.)\n",
    "\n",
    "    - he took his money to the bank.\n",
    "    - he took his canoe to the bank.\n",
    "(They're both nouns, so part of speech tag won't necessarily help you here. You really need to go a little further.)"
   ]
  },
  {
   "cell_type": "markdown",
   "metadata": {},
   "source": [
    "## 4.6 Anaphora Resolution \n"
   ]
  },
  {
   "cell_type": "markdown",
   "metadata": {},
   "source": [
    "Examples: \n",
    "        \n",
    "        Sam and Bill left with the toys. They were later found.\n",
    "\n",
    "So what does they really referring to in this case? Is it Sam and Bill or is it the toys? And that's what this task is about. It's joining these kind of references to their original subjects."
   ]
  },
  {
   "cell_type": "markdown",
   "metadata": {},
   "source": [
    "## 4.7 Part-of-speech(POS) tagging \n",
    "\n",
    "- Verb, noun, adjective, etc. \n",
    "- Simple tag set: 19 word classes.\n",
    "\n",
    "\"They refuse to permit us to obtain a refuse permit\"\n",
    "\n",
    "What tagset to use?\n",
    "- Brown Corpus ( 87 tags) \n",
    "- C5 tagset (61 tags) \n",
    "- Penn Treebank ( 45 tags) \n",
    "\n",
    "\n",
    "Type of Taggers \n",
    "- rule-based :  where you can try and figure out a combination of rules.There's rule-based tagging where you apply rules maybe in regular expressions, or maybe as statements in your code to narrow down the cases for each particular word and tag and generalize where possible.\n",
    "- Lookup : There's looking up where you can look up the word in a repository, and see what tags it is, and you can also do that either through a single word,\n",
    "- N-Gram : if you do it using N-grams then you have a better idea of how the word's being used in context, and the accuracy of the tag will be higher.\n",
    "- Hybrid and Backoff \n",
    "- Brill Tagger ( learns rules) \n",
    "- HMM Tagger (Hidden Markov Model tagger) \n"
   ]
  },
  {
   "cell_type": "markdown",
   "metadata": {},
   "source": [
    "### HMM Tagger \n",
    "\n",
    "Hidden Markov Models with the weather example, and we're going to show here how to use it for creating a parts-of-speech tagger,"
   ]
  },
  {
   "cell_type": "markdown",
   "metadata": {},
   "source": [
    "##  5. Classical NLP Applications\n",
    "\n",
    "### 5.1 Name Gender Classifier\n"
   ]
  },
  {
   "cell_type": "code",
   "execution_count": 16,
   "metadata": {},
   "outputs": [
    {
     "name": "stdout",
     "output_type": "stream",
     "text": [
      "trainData accuracy= 0.9232100708103855\n",
      "testData accuracy= 0.8477029578351164\n",
      "name= david classified as= male\n",
      "name= susan classified as= female\n",
      "name= alex classified as= female\n",
      "Most Informative Features\n",
      "                 suffix2 = 'na'           female : male   =     84.2 : 1.0\n",
      "                 suffix2 = 'la'           female : male   =     66.4 : 1.0\n",
      "                 suffix2 = 'ia'           female : male   =     48.8 : 1.0\n",
      "                  suffix = 'k'              male : female =     39.6 : 1.0\n",
      "                 suffix2 = 'us'             male : female =     37.5 : 1.0\n",
      "                  suffix = 'a'            female : male   =     35.8 : 1.0\n",
      "                 suffix2 = 'sa'           female : male   =     31.1 : 1.0\n",
      "                 suffix2 = 'rd'             male : female =     29.2 : 1.0\n",
      "                 suffix2 = 'ta'           female : male   =     28.0 : 1.0\n",
      "                 suffix3 = 'nne'          female : male   =     27.8 : 1.0\n",
      "                 suffix2 = 'rt'             male : female =     26.9 : 1.0\n",
      "                 suffix3 = 'ard'            male : female =     26.3 : 1.0\n",
      "                 suffix2 = 'ra'           female : male   =     22.8 : 1.0\n",
      "                 suffix3 = 'ana'          female : male   =     22.2 : 1.0\n",
      "                 suffix2 = 'ld'             male : female =     20.3 : 1.0\n",
      "                  suffix = 'p'              male : female =     18.6 : 1.0\n",
      "                 suffix2 = 'ch'             male : female =     18.3 : 1.0\n",
      "                 suffix2 = 'do'             male : female =     18.3 : 1.0\n",
      "                 suffix2 = 'io'             male : female =     15.6 : 1.0\n",
      "                  suffix = 'f'              male : female =     15.2 : 1.0\n",
      "                 prefix3 = 'ros'          female : male   =     14.8 : 1.0\n",
      "                 suffix3 = 'ita'          female : male   =     14.4 : 1.0\n",
      "                 suffix3 = 'ert'            male : female =     13.9 : 1.0\n",
      "                 suffix2 = 'ar'             male : female =     13.6 : 1.0\n",
      "                 suffix3 = 'ela'          female : male   =     13.6 : 1.0\n"
     ]
    }
   ],
   "source": [
    "# code to build a classifier to classify names as male or female\n",
    "# demonstrates the basics of feature extraction and model building\n",
    "import nltk\n",
    "\n",
    "names = [(name, 'male') for name in nltk.corpus.names.words(\"male.txt\")]\n",
    "names += [(name, 'female') for name in nltk.corpus.names.words(\"female.txt\")]\n",
    "\n",
    "def extract_gender_features(name):\n",
    "    name = name.lower()\n",
    "    features = {}\n",
    "    features[\"suffix\"] = name[-1:]\n",
    "    features[\"suffix2\"] = name[-2:] if len(name) > 1 else name[0]\n",
    "    features[\"suffix3\"] = name[-3:] if len(name) > 2 else name[0]\n",
    "    features[\"prefix\"] = name[:1]\n",
    "    features[\"prefix2\"] = name[:2] if len(name) > 1 else name[0]\n",
    "    features[\"prefix3\"] = name[:3] if len(name) > 2 else name[0]\n",
    "    features[\"prefix4\"] = name[:4] if len(name) > 3 else name[0]\n",
    "    features[\"prefix5\"] = name[:5] if len(name) > 4 else name[0]\n",
    "    #features[\"wordLen\"] = len(name)\n",
    "\n",
    "    #for letter in \"abcdefghijklmnopqrstuvwxyz\":\n",
    "    #    features[letter + \"-count\"] = name.count(letter)\n",
    "    \n",
    "    return features\n",
    "\n",
    "data = [(extract_gender_features(name), gender) for (name, gender) in names]\n",
    "\n",
    "import random\n",
    "random.shuffle(data)\n",
    "\n",
    "#print(data[:10])\n",
    "#print()\n",
    "#print(data[-10:])\n",
    "\n",
    "dataCount = len(data)\n",
    "trainCount = int(.8*dataCount)\n",
    "\n",
    "trainData = data[:trainCount]\n",
    "testData = data[trainCount:]\n",
    "bayes = nltk.NaiveBayesClassifier.train(trainData)\n",
    "\n",
    "def classify(name):\n",
    "    label = bayes.classify(extract_gender_features(name))\n",
    "    print(\"name=\", name, \"classified as=\", label)\n",
    "    \n",
    "print(\"trainData accuracy=\", nltk.classify.accuracy(bayes, trainData))\n",
    "print(\"testData accuracy=\", nltk.classify.accuracy(bayes, testData))\n",
    "\n",
    "classify(\"david\")\n",
    "classify(\"susan\")\n",
    "classify(\"alex\")\n",
    "\n",
    "bayes.show_most_informative_features(25)"
   ]
  },
  {
   "cell_type": "code",
   "execution_count": 17,
   "metadata": {},
   "outputs": [
    {
     "data": {
      "text/plain": [
       "[{'label': 'male', 'name': 'Addie'},\n",
       " {'label': 'male', 'name': 'Aditya'},\n",
       " {'label': 'male', 'name': 'Adrian'},\n",
       " {'label': 'male', 'name': 'Adrien'},\n",
       " {'label': 'male', 'name': 'Al'},\n",
       " {'label': 'male', 'name': 'Alaa'},\n",
       " {'label': 'male', 'name': 'Alex'},\n",
       " {'label': 'male', 'name': 'Alexei'},\n",
       " {'label': 'male', 'name': 'Alexis'},\n",
       " {'label': 'male', 'name': 'Alfie'},\n",
       " {'label': 'male', 'name': 'Ali'},\n",
       " {'label': 'male', 'name': 'Allie'},\n",
       " {'label': 'male', 'name': 'Allin'},\n",
       " {'label': 'male', 'name': 'Allyn'},\n",
       " {'label': 'male', 'name': 'Amery'},\n",
       " {'label': 'male', 'name': 'Anatole'},\n",
       " {'label': 'male', 'name': 'Andie'},\n",
       " {'label': 'male', 'name': 'Andre'},\n",
       " {'label': 'male', 'name': 'Andrea'},\n",
       " {'label': 'male', 'name': 'Andri'},\n",
       " {'label': 'male', 'name': 'Andy'},\n",
       " {'label': 'male', 'name': 'Angel'},\n",
       " {'label': 'male', 'name': 'Angie'},\n",
       " {'label': 'male', 'name': 'Antoine'},\n",
       " {'label': 'male', 'name': 'Antone'},\n",
       " {'label': 'male', 'name': 'Antoni'},\n",
       " {'label': 'male', 'name': 'Ari'},\n",
       " {'label': 'male', 'name': 'Arie'},\n",
       " {'label': 'male', 'name': 'Aristotle'},\n",
       " {'label': 'male', 'name': 'Ashley'},\n",
       " {'label': 'male', 'name': 'Aubrey'},\n",
       " {'label': 'male', 'name': 'Augie'},\n",
       " {'label': 'male', 'name': 'Augustine'},\n",
       " {'label': 'male', 'name': 'Austin'},\n",
       " {'label': 'male', 'name': 'Bealle'},\n",
       " {'label': 'male', 'name': 'Bela'},\n",
       " {'label': 'male', 'name': 'Benedict'},\n",
       " {'label': 'male', 'name': 'Bennie'},\n",
       " {'label': 'male', 'name': 'Bernie'},\n",
       " {'label': 'male', 'name': 'Bertie'},\n",
       " {'label': 'male', 'name': 'Billie'},\n",
       " {'label': 'male', 'name': 'Binky'},\n",
       " {'label': 'male', 'name': 'Blaine'},\n",
       " {'label': 'male', 'name': 'Blake'},\n",
       " {'label': 'male', 'name': 'Blayne'},\n",
       " {'label': 'male', 'name': 'Bobbie'},\n",
       " {'label': 'male', 'name': 'Brandy'},\n",
       " {'label': 'male', 'name': 'Brian'},\n",
       " {'label': 'male', 'name': 'Brice'},\n",
       " {'label': 'male', 'name': 'Brinkley'},\n",
       " {'label': 'male', 'name': 'Britt'},\n",
       " {'label': 'male', 'name': 'Bryn'},\n",
       " {'label': 'male', 'name': 'Cammy'},\n",
       " {'label': 'male', 'name': 'Carey'},\n",
       " {'label': 'male', 'name': 'Carl'},\n",
       " {'label': 'male', 'name': 'Carleigh'},\n",
       " {'label': 'male', 'name': 'Carlie'},\n",
       " {'label': 'male', 'name': 'Carlin'},\n",
       " {'label': 'male', 'name': 'Carlyle'},\n",
       " {'label': 'male', 'name': 'Carmine'},\n",
       " {'label': 'male', 'name': 'Carroll'},\n",
       " {'label': 'male', 'name': 'Cary'},\n",
       " {'label': 'male', 'name': 'Caryl'},\n",
       " {'label': 'male', 'name': 'Cass'},\n",
       " {'label': 'male', 'name': 'Cat'},\n",
       " {'label': 'male', 'name': 'Cecil'},\n",
       " {'label': 'male', 'name': 'Chane'},\n",
       " {'label': 'male', 'name': 'Charley'},\n",
       " {'label': 'male', 'name': 'Charlie'},\n",
       " {'label': 'male', 'name': 'Che'},\n",
       " {'label': 'male', 'name': 'Chen'},\n",
       " {'label': 'male', 'name': 'Chrissy'},\n",
       " {'label': 'male', 'name': 'Christie'},\n",
       " {'label': 'male', 'name': 'Christy'},\n",
       " {'label': 'male', 'name': 'Chrisy'},\n",
       " {'label': 'male', 'name': 'Claire'},\n",
       " {'label': 'male', 'name': 'Clarance'},\n",
       " {'label': 'male', 'name': 'Clarence'},\n",
       " {'label': 'male', 'name': 'Claude'},\n",
       " {'label': 'male', 'name': 'Clemente'},\n",
       " {'label': 'male', 'name': 'Clemmie'},\n",
       " {'label': 'male', 'name': 'Cole'},\n",
       " {'label': 'male', 'name': 'Connie'},\n",
       " {'label': 'male', 'name': 'Constantine'},\n",
       " {'label': 'male', 'name': 'Corey'},\n",
       " {'label': 'male', 'name': 'Corrie'},\n",
       " {'label': 'male', 'name': 'Cortese'},\n",
       " {'label': 'male', 'name': 'Cory'},\n",
       " {'label': 'male', 'name': 'Costa'},\n",
       " {'label': 'male', 'name': 'Courtney'},\n",
       " {'label': 'male', 'name': 'Cris'},\n",
       " {'label': 'male', 'name': 'Cristopher'},\n",
       " {'label': 'male', 'name': 'Daffy'},\n",
       " {'label': 'male', 'name': 'Dale'},\n",
       " {'label': 'male', 'name': 'Dana'},\n",
       " {'label': 'male', 'name': 'Dane'},\n",
       " {'label': 'male', 'name': 'Dani'},\n",
       " {'label': 'male', 'name': 'Danie'},\n",
       " {'label': 'male', 'name': 'Daniel'},\n",
       " {'label': 'male', 'name': 'Dannie'},\n",
       " {'label': 'male', 'name': 'Danny'},\n",
       " {'label': 'male', 'name': 'Dante'},\n",
       " {'label': 'male', 'name': 'Darby'},\n",
       " {'label': 'male', 'name': 'Daryl'},\n",
       " {'label': 'male', 'name': 'Daryle'},\n",
       " {'label': 'male', 'name': 'Dean'},\n",
       " {'label': 'male', 'name': 'Deane'},\n",
       " {'label': 'male', 'name': 'Del'},\n",
       " {'label': 'male', 'name': 'Dell'},\n",
       " {'label': 'male', 'name': 'Dennie'},\n",
       " {'label': 'male', 'name': 'Denny'},\n",
       " {'label': 'male', 'name': 'Devon'},\n",
       " {'label': 'male', 'name': 'Donn'},\n",
       " {'label': 'male', 'name': 'Donnie'},\n",
       " {'label': 'male', 'name': 'Donny'},\n",
       " {'label': 'male', 'name': 'Dorian'},\n",
       " {'label': 'male', 'name': 'Dory'},\n",
       " {'label': 'male', 'name': 'Eddie'},\n",
       " {'label': 'male', 'name': 'Edie'},\n",
       " {'label': 'male', 'name': 'Eli'},\n",
       " {'label': 'male', 'name': 'Elisha'},\n",
       " {'label': 'male', 'name': 'Ellis'},\n",
       " {'label': 'male', 'name': 'Ely'},\n",
       " {'label': 'male', 'name': 'Emil'},\n",
       " {'label': 'male', 'name': 'Emile'},\n",
       " {'label': 'male', 'name': 'Emmy'},\n",
       " {'label': 'male', 'name': 'Erl'},\n",
       " {'label': 'male', 'name': 'Ernie'},\n",
       " {'label': 'male', 'name': 'Esme'},\n",
       " {'label': 'male', 'name': 'Etienne'},\n",
       " {'label': 'male', 'name': 'Eugene'},\n",
       " {'label': 'male', 'name': 'Evan'},\n",
       " {'label': 'male', 'name': 'Evelyn'},\n",
       " {'label': 'male', 'name': 'Ezra'},\n",
       " {'label': 'male', 'name': 'Felice'},\n",
       " {'label': 'male', 'name': 'Florian'},\n",
       " {'label': 'male', 'name': 'Frankie'},\n",
       " {'label': 'male', 'name': 'Franklyn'},\n",
       " {'label': 'male', 'name': 'Gabriele'},\n",
       " {'label': 'male', 'name': 'Garcia'},\n",
       " {'label': 'male', 'name': 'Gayle'},\n",
       " {'label': 'male', 'name': 'Gene'},\n",
       " {'label': 'male', 'name': 'Georgia'},\n",
       " {'label': 'male', 'name': 'Georgie'},\n",
       " {'label': 'male', 'name': 'Geri'},\n",
       " {'label': 'male', 'name': 'Germaine'},\n",
       " {'label': 'male', 'name': 'Gerri'},\n",
       " {'label': 'male', 'name': 'Giavani'},\n",
       " {'label': 'male', 'name': 'Giovanne'},\n",
       " {'label': 'male', 'name': 'Giovanni'},\n",
       " {'label': 'male', 'name': 'Glen'},\n",
       " {'label': 'male', 'name': 'Glenn'},\n",
       " {'label': 'male', 'name': 'Glynn'},\n",
       " {'label': 'male', 'name': 'Gretchen'},\n",
       " {'label': 'male', 'name': 'Holly'},\n",
       " {'label': 'male', 'name': 'Ira'},\n",
       " {'label': 'male', 'name': 'Isa'},\n",
       " {'label': 'male', 'name': 'Jackie'},\n",
       " {'label': 'male', 'name': 'Jacques'},\n",
       " {'label': 'male', 'name': 'Jamie'},\n",
       " {'label': 'male', 'name': 'Jennings'},\n",
       " {'label': 'male', 'name': 'Jermaine'},\n",
       " {'label': 'male', 'name': 'Jerri'},\n",
       " {'label': 'male', 'name': 'Jerrie'},\n",
       " {'label': 'male', 'name': 'Jess'},\n",
       " {'label': 'male', 'name': 'Jesse'},\n",
       " {'label': 'male', 'name': 'Jessee'},\n",
       " {'label': 'male', 'name': 'Jessie'},\n",
       " {'label': 'male', 'name': 'Jodi'},\n",
       " {'label': 'male', 'name': 'Jodie'},\n",
       " {'label': 'male', 'name': 'Joel'},\n",
       " {'label': 'male', 'name': 'Jose'},\n",
       " {'label': 'male', 'name': 'Joshua'},\n",
       " {'label': 'male', 'name': 'Juanita'},\n",
       " {'label': 'male', 'name': 'Jude'},\n",
       " {'label': 'male', 'name': 'Judith'},\n",
       " {'label': 'male', 'name': 'Julian'},\n",
       " {'label': 'male', 'name': 'Julie'},\n",
       " {'label': 'male', 'name': 'Kalil'},\n",
       " {'label': 'male', 'name': 'Kalle'},\n",
       " {'label': 'male', 'name': 'Kane'},\n",
       " {'label': 'male', 'name': 'Kareem'},\n",
       " {'label': 'male', 'name': 'Karel'},\n",
       " {'label': 'male', 'name': 'Karl'},\n",
       " {'label': 'male', 'name': 'Karsten'},\n",
       " {'label': 'male', 'name': 'Keene'},\n",
       " {'label': 'male', 'name': 'Kellen'},\n",
       " {'label': 'male', 'name': 'Kelly'},\n",
       " {'label': 'male', 'name': 'Kerry'},\n",
       " {'label': 'male', 'name': 'Kit'},\n",
       " {'label': 'male', 'name': 'Klee'},\n",
       " {'label': 'male', 'name': 'Kory'},\n",
       " {'label': 'male', 'name': 'Kris'},\n",
       " {'label': 'male', 'name': 'Krishna'},\n",
       " {'label': 'male', 'name': 'Kristian'},\n",
       " {'label': 'male', 'name': 'Kyle'},\n",
       " {'label': 'male', 'name': 'Lane'},\n",
       " {'label': 'male', 'name': 'Lanny'},\n",
       " {'label': 'male', 'name': 'Larry'},\n",
       " {'label': 'male', 'name': 'Laurance'},\n",
       " {'label': 'male', 'name': 'Lauren'},\n",
       " {'label': 'male', 'name': 'Laurence'},\n",
       " {'label': 'male', 'name': 'Laurens'},\n",
       " {'label': 'male', 'name': 'Laurent'},\n",
       " {'label': 'male', 'name': 'Laurie'},\n",
       " {'label': 'male', 'name': 'Lee'},\n",
       " {'label': 'male', 'name': 'Len'},\n",
       " {'label': 'male', 'name': 'Lennie'},\n",
       " {'label': 'male', 'name': 'Lesley'},\n",
       " {'label': 'male', 'name': 'Leslie'},\n",
       " {'label': 'male', 'name': 'Lin'},\n",
       " {'label': 'male', 'name': 'Lindsay'},\n",
       " {'label': 'male', 'name': 'Lindsey'},\n",
       " {'label': 'male', 'name': 'Lindy'},\n",
       " {'label': 'male', 'name': 'Llewellyn'},\n",
       " {'label': 'male', 'name': 'Lonnie'},\n",
       " {'label': 'male', 'name': 'Lonny'},\n",
       " {'label': 'male', 'name': 'Loren'},\n",
       " {'label': 'male', 'name': 'Lorne'},\n",
       " {'label': 'male', 'name': 'Lorrie'},\n",
       " {'label': 'male', 'name': 'Lovell'},\n",
       " {'label': 'male', 'name': 'Luce'},\n",
       " {'label': 'male', 'name': 'Lucien'},\n",
       " {'label': 'male', 'name': 'Lyle'},\n",
       " {'label': 'male', 'name': 'Lyn'},\n",
       " {'label': 'male', 'name': 'Lynn'},\n",
       " {'label': 'male', 'name': 'Maddie'},\n",
       " {'label': 'male', 'name': 'Maddy'},\n",
       " {'label': 'male', 'name': 'Marietta'},\n",
       " {'label': 'male', 'name': 'Marilu'},\n",
       " {'label': 'male', 'name': 'Marlin'},\n",
       " {'label': 'male', 'name': 'Martainn'},\n",
       " {'label': 'male', 'name': 'Marten'},\n",
       " {'label': 'male', 'name': 'Martie'},\n",
       " {'label': 'male', 'name': 'Martin'},\n",
       " {'label': 'male', 'name': 'Marty'},\n",
       " {'label': 'male', 'name': 'Martyn'},\n",
       " {'label': 'male', 'name': 'Maurice'},\n",
       " {'label': 'male', 'name': 'Maurie'},\n",
       " {'label': 'male', 'name': 'Maurise'},\n",
       " {'label': 'male', 'name': 'Maxie'},\n",
       " {'label': 'male', 'name': 'Mel'},\n",
       " {'label': 'male', 'name': 'Meredeth'},\n",
       " {'label': 'male', 'name': 'Merle'},\n",
       " {'label': 'male', 'name': 'Merlin'},\n",
       " {'label': 'male', 'name': 'Merril'},\n",
       " {'label': 'male', 'name': 'Merry'},\n",
       " {'label': 'male', 'name': 'Meryl'},\n",
       " {'label': 'male', 'name': 'Michale'},\n",
       " {'label': 'male', 'name': 'Michele'},\n",
       " {'label': 'male', 'name': 'Mickie'},\n",
       " {'label': 'male', 'name': 'Mika'},\n",
       " {'label': 'male', 'name': 'Mischa'},\n",
       " {'label': 'male', 'name': 'Morgan'},\n",
       " {'label': 'male', 'name': 'Morlee'},\n",
       " {'label': 'male', 'name': 'Muffin'},\n",
       " {'label': 'male', 'name': 'Natale'},\n",
       " {'label': 'male', 'name': 'Nate'},\n",
       " {'label': 'male', 'name': 'Nichole'},\n",
       " {'label': 'male', 'name': 'Nickie'},\n",
       " {'label': 'male', 'name': 'Niki'},\n",
       " {'label': 'male', 'name': 'Nikita'},\n",
       " {'label': 'male', 'name': 'Nikki'},\n",
       " {'label': 'male', 'name': 'Noel'},\n",
       " {'label': 'male', 'name': 'Odell'},\n",
       " {'label': 'male', 'name': 'Olle'},\n",
       " {'label': 'male', 'name': 'Ollie'},\n",
       " {'label': 'male', 'name': 'Oral'},\n",
       " {'label': 'male', 'name': 'Orville'},\n",
       " {'label': 'male', 'name': 'Page'},\n",
       " {'label': 'male', 'name': 'Partha'},\n",
       " {'label': 'male', 'name': 'Pennie'},\n",
       " {'label': 'male', 'name': 'Randi'},\n",
       " {'label': 'male', 'name': 'Rene'},\n",
       " {'label': 'male', 'name': 'Ricki'},\n",
       " {'label': 'male', 'name': 'Robbie'},\n",
       " {'label': 'male', 'name': 'Robin'},\n",
       " {'label': 'male', 'name': 'Roice'},\n",
       " {'label': 'male', 'name': 'Roni'},\n",
       " {'label': 'male', 'name': 'Ronnie'},\n",
       " {'label': 'male', 'name': 'Ronny'},\n",
       " {'label': 'male', 'name': 'Rory'},\n",
       " {'label': 'male', 'name': 'Roscoe'},\n",
       " {'label': 'male', 'name': 'Ryan'},\n",
       " {'label': 'male', 'name': 'Samuele'},\n",
       " {'label': 'male', 'name': 'Sascha'},\n",
       " {'label': 'male', 'name': 'Sasha'},\n",
       " {'label': 'male', 'name': 'Saundra'},\n",
       " {'label': 'male', 'name': 'Scarface'},\n",
       " {'label': 'male', 'name': 'Scotti'},\n",
       " {'label': 'male', 'name': 'Shaine'},\n",
       " {'label': 'male', 'name': 'Shanan'},\n",
       " {'label': 'male', 'name': 'Shane'},\n",
       " {'label': 'male', 'name': 'Shannon'},\n",
       " {'label': 'male', 'name': 'Shawn'},\n",
       " {'label': 'male', 'name': 'Shay'},\n",
       " {'label': 'male', 'name': 'Shayne'},\n",
       " {'label': 'male', 'name': 'Shea'},\n",
       " {'label': 'male', 'name': 'Shelley'},\n",
       " {'label': 'male', 'name': 'Sibyl'},\n",
       " {'label': 'male', 'name': 'Siddhartha'},\n",
       " {'label': 'male', 'name': 'Simone'},\n",
       " {'label': 'male', 'name': 'Sonnie'},\n",
       " {'label': 'male', 'name': 'Sonny'},\n",
       " {'label': 'male', 'name': 'Stacy'},\n",
       " {'label': 'male', 'name': 'Stephen'},\n",
       " {'label': 'male', 'name': 'Sunny'},\n",
       " {'label': 'male', 'name': 'Tabbie'},\n",
       " {'label': 'male', 'name': 'Tallie'},\n",
       " {'label': 'male', 'name': 'Tammie'},\n",
       " {'label': 'male', 'name': 'Tammy'},\n",
       " {'label': 'male', 'name': 'Tate'},\n",
       " {'label': 'male', 'name': 'Teddie'},\n",
       " {'label': 'male', 'name': 'Terri'},\n",
       " {'label': 'male', 'name': 'Timmie'},\n",
       " {'label': 'male', 'name': 'Tobe'},\n",
       " {'label': 'male', 'name': 'Trace'},\n",
       " {'label': 'male', 'name': 'Tracey'},\n",
       " {'label': 'male', 'name': 'Tracie'},\n",
       " {'label': 'male', 'name': 'Tracy'},\n",
       " {'label': 'male', 'name': 'Vale'},\n",
       " {'label': 'male', 'name': 'Valentin'},\n",
       " {'label': 'male', 'name': 'Valentine'},\n",
       " {'label': 'male', 'name': 'Vassili'},\n",
       " {'label': 'male', 'name': 'Vinnie'},\n",
       " {'label': 'male', 'name': 'Vinny'},\n",
       " {'label': 'male', 'name': 'Virgie'},\n",
       " {'label': 'male', 'name': 'Vite'},\n",
       " {'label': 'male', 'name': 'Willi'},\n",
       " {'label': 'male', 'name': 'Wylie'},\n",
       " {'label': 'male', 'name': 'Yehudi'},\n",
       " {'label': 'male', 'name': 'Zacharia'},\n",
       " {'label': 'male', 'name': 'Zane'},\n",
       " {'label': 'female', 'name': 'Abbey'},\n",
       " {'label': 'female', 'name': 'Abbie'},\n",
       " {'label': 'female', 'name': 'Abby'},\n",
       " {'label': 'female', 'name': 'Abigael'},\n",
       " {'label': 'female', 'name': 'Abigail'},\n",
       " {'label': 'female', 'name': 'Adriaens'},\n",
       " {'label': 'female', 'name': 'Ajay'},\n",
       " {'label': 'female', 'name': 'Alison'},\n",
       " {'label': 'female', 'name': 'Alisun'},\n",
       " {'label': 'female', 'name': 'Alix'},\n",
       " {'label': 'female', 'name': 'Allison'},\n",
       " {'label': 'female', 'name': 'Allsun'},\n",
       " {'label': 'female', 'name': 'Allyson'},\n",
       " {'label': 'female', 'name': 'Amber'},\n",
       " {'label': 'female', 'name': 'Ambur'},\n",
       " {'label': 'female', 'name': 'Angil'},\n",
       " {'label': 'female', 'name': 'Ariel'},\n",
       " {'label': 'female', 'name': 'Averil'},\n",
       " {'label': 'female', 'name': 'Averyl'},\n",
       " {'label': 'female', 'name': 'Avis'},\n",
       " {'label': 'female', 'name': 'Ayn'},\n",
       " {'label': 'female', 'name': 'Bab'},\n",
       " {'label': 'female', 'name': 'Barb'},\n",
       " {'label': 'female', 'name': 'Barby'},\n",
       " {'label': 'female', 'name': 'Barrie'},\n",
       " {'label': 'female', 'name': 'Barry'},\n",
       " {'label': 'female', 'name': 'Beau'},\n",
       " {'label': 'female', 'name': 'Benny'},\n",
       " {'label': 'female', 'name': 'Bert'},\n",
       " {'label': 'female', 'name': 'Bev'},\n",
       " {'label': 'female', 'name': 'Biddy'},\n",
       " {'label': 'female', 'name': 'Bill'},\n",
       " {'label': 'female', 'name': 'Billy'},\n",
       " {'label': 'female', 'name': 'Bird'},\n",
       " {'label': 'female', 'name': 'Blair'},\n",
       " {'label': 'female', 'name': 'Bo'},\n",
       " {'label': 'female', 'name': 'Bobby'},\n",
       " {'label': 'female', 'name': 'Brandais'},\n",
       " {'label': 'female', 'name': 'Brear'},\n",
       " {'label': 'female', 'name': 'Bren'},\n",
       " {'label': 'female', 'name': 'Brett'},\n",
       " {'label': 'female', 'name': 'Brier'},\n",
       " {'label': 'female', 'name': 'Brook'},\n",
       " {'label': 'female', 'name': 'Brooke'},\n",
       " {'label': 'female', 'name': 'Brooks'},\n",
       " {'label': 'female', 'name': 'Buffy'},\n",
       " {'label': 'female', 'name': 'Cal'},\n",
       " {'label': 'female', 'name': 'Cam'},\n",
       " {'label': 'female', 'name': 'Cameo'},\n",
       " {'label': 'female', 'name': 'Casey'},\n",
       " {'label': 'female', 'name': 'Chad'},\n",
       " {'label': 'female', 'name': 'Chandal'},\n",
       " {'label': 'female', 'name': 'Charlot'},\n",
       " {'label': 'female', 'name': 'Charlott'},\n",
       " {'label': 'female', 'name': 'Charo'},\n",
       " {'label': 'female', 'name': 'Cher'},\n",
       " {'label': 'female', 'name': 'Chris'},\n",
       " {'label': 'female', 'name': 'Christan'},\n",
       " {'label': 'female', 'name': 'Christen'},\n",
       " {'label': 'female', 'name': 'Christian'},\n",
       " {'label': 'female', 'name': 'Christin'},\n",
       " {'label': 'female', 'name': 'Chrysler'},\n",
       " {'label': 'female', 'name': 'Clair'},\n",
       " {'label': 'female', 'name': 'Clare'},\n",
       " {'label': 'female', 'name': 'Clem'},\n",
       " {'label': 'female', 'name': 'Clemence'},\n",
       " {'label': 'female', 'name': 'Cleo'},\n",
       " {'label': 'female', 'name': 'Clio'},\n",
       " {'label': 'female', 'name': 'Clo'},\n",
       " {'label': 'female', 'name': 'Cody'},\n",
       " {'label': 'female', 'name': 'Con'},\n",
       " {'label': 'female', 'name': 'Consuelo'},\n",
       " {'label': 'female', 'name': 'Dagmar'},\n",
       " {'label': 'female', 'name': 'Dallas'},\n",
       " {'label': 'female', 'name': 'Daloris'},\n",
       " {'label': 'female', 'name': 'Darcey'},\n",
       " {'label': 'female', 'name': 'Darcy'},\n",
       " {'label': 'female', 'name': 'Darryl'},\n",
       " {'label': 'female', 'name': 'Deb'},\n",
       " {'label': 'female', 'name': 'Demeter'},\n",
       " {'label': 'female', 'name': 'Demetris'},\n",
       " {'label': 'female', 'name': 'Devin'},\n",
       " {'label': 'female', 'name': 'Dew'},\n",
       " {'label': 'female', 'name': 'Diamond'},\n",
       " {'label': 'female', 'name': 'Dido'},\n",
       " {'label': 'female', 'name': 'Dion'},\n",
       " {'label': 'female', 'name': 'Dione'},\n",
       " {'label': 'female', 'name': 'Dionis'},\n",
       " {'label': 'female', 'name': 'Dominique'},\n",
       " {'label': 'female', 'name': 'Drew'},\n",
       " {'label': 'female', 'name': 'Ealasaid'},\n",
       " {'label': 'female', 'name': 'Easter'},\n",
       " {'label': 'female', 'name': 'Eddy'},\n",
       " {'label': 'female', 'name': 'Em'},\n",
       " {'label': 'female', 'name': 'Emmey'},\n",
       " {'label': 'female', 'name': 'Enid'},\n",
       " {'label': 'female', 'name': 'Eran'},\n",
       " {'label': 'female', 'name': 'Erin'},\n",
       " {'label': 'female', 'name': 'Ester'},\n",
       " {'label': 'female', 'name': 'Esther'},\n",
       " {'label': 'female', 'name': 'Ethelind'},\n",
       " {'label': 'female', 'name': 'Fallon'},\n",
       " {'label': 'female', 'name': 'Farand'},\n",
       " {'label': 'female', 'name': 'Farrand'},\n",
       " {'label': 'female', 'name': 'Felicdad'},\n",
       " {'label': 'female', 'name': 'Fern'},\n",
       " {'label': 'female', 'name': 'Fleur'},\n",
       " {'label': 'female', 'name': 'Flo'},\n",
       " {'label': 'female', 'name': 'Fran'},\n",
       " {'label': 'female', 'name': 'France'},\n",
       " {'label': 'female', 'name': 'Frances'},\n",
       " {'label': 'female', 'name': 'Francesmary'},\n",
       " {'label': 'female', 'name': 'Francis'},\n",
       " {'label': 'female', 'name': 'Frank'},\n",
       " {'label': 'female', 'name': 'Franky'},\n",
       " {'label': 'female', 'name': 'Fred'},\n",
       " {'label': 'female', 'name': 'Freddie'},\n",
       " {'label': 'female', 'name': 'Freddy'},\n",
       " {'label': 'female', 'name': 'Friederike'},\n",
       " {'label': 'female', 'name': 'Gabey'},\n",
       " {'label': 'female', 'name': 'Gabriel'},\n",
       " {'label': 'female', 'name': 'Gabriell'},\n",
       " {'label': 'female', 'name': 'Gaby'},\n",
       " {'label': 'female', 'name': 'Gael'},\n",
       " {'label': 'female', 'name': 'Gail'},\n",
       " {'label': 'female', 'name': 'Gale'},\n",
       " {'label': 'female', 'name': 'Garland'},\n",
       " {'label': 'female', 'name': 'Garnet'},\n",
       " {'label': 'female', 'name': 'Gates'},\n",
       " {'label': 'female', 'name': 'Gay'},\n",
       " {'label': 'female', 'name': 'Gaynor'},\n",
       " {'label': 'female', 'name': 'Gen'},\n",
       " {'label': 'female', 'name': 'George'},\n",
       " {'label': 'female', 'name': 'Germain'},\n",
       " {'label': 'female', 'name': 'Gerry'},\n",
       " {'label': 'female', 'name': 'Gert'},\n",
       " {'label': 'female', 'name': 'Gertrud'},\n",
       " {'label': 'female', 'name': 'Gill'},\n",
       " {'label': 'female', 'name': 'Gillan'},\n",
       " {'label': 'female', 'name': 'Gillian'},\n",
       " {'label': 'female', 'name': 'Ginger'},\n",
       " {'label': 'female', 'name': 'Ginnifer'},\n",
       " {'label': 'female', 'name': 'Grace'},\n",
       " {'label': 'female', 'name': 'Gray'},\n",
       " {'label': 'female', 'name': 'Grayce'},\n",
       " {'label': 'female', 'name': 'Greer'},\n",
       " {'label': 'female', 'name': 'Grier'},\n",
       " {'label': 'female', 'name': 'Grissel'},\n",
       " {'label': 'female', 'name': 'Gunvor'},\n",
       " {'label': 'female', 'name': 'Gus'},\n",
       " {'label': 'female', 'name': 'Haleigh'},\n",
       " {'label': 'female', 'name': 'Haley'},\n",
       " {'label': 'female', 'name': 'Halley'},\n",
       " {'label': 'female', 'name': 'Hally'},\n",
       " {'label': 'female', 'name': 'Hannah'},\n",
       " {'label': 'female', 'name': 'Hannibal'},\n",
       " {'label': 'female', 'name': 'Hannis'},\n",
       " {'label': 'female', 'name': 'Hanny'},\n",
       " {'label': 'female', 'name': 'Happy'},\n",
       " {'label': 'female', 'name': 'Harley'},\n",
       " {'label': 'female', 'name': 'Harlie'},\n",
       " {'label': 'female', 'name': 'Harmony'},\n",
       " {'label': 'female', 'name': 'Harriet'},\n",
       " {'label': 'female', 'name': 'Harriett'},\n",
       " {'label': 'female', 'name': 'Harriot'},\n",
       " {'label': 'female', 'name': 'Harriott'},\n",
       " {'label': 'female', 'name': 'Hayley'},\n",
       " {'label': 'female', 'name': 'Hazel'},\n",
       " {'label': 'female', 'name': 'Heath'},\n",
       " {'label': 'female', 'name': 'Heather'},\n",
       " {'label': 'female', 'name': 'Hedvig'},\n",
       " {'label': 'female', 'name': 'Hedwig'},\n",
       " {'label': 'female', 'name': 'Henrie'},\n",
       " {'label': 'female', 'name': 'Hephzibah'},\n",
       " {'label': 'female', 'name': 'Hester'},\n",
       " {'label': 'female', 'name': 'Hesther'},\n",
       " {'label': 'female', 'name': 'Hilarie'},\n",
       " {'label': 'female', 'name': 'Hilary'},\n",
       " {'label': 'female', 'name': 'Hildagard'},\n",
       " {'label': 'female', 'name': 'Hildegaard'},\n",
       " {'label': 'female', 'name': 'Hillary'},\n",
       " {'label': 'female', 'name': 'Hilliary'},\n",
       " {'label': 'female', 'name': 'Holley'},\n",
       " {'label': 'female', 'name': 'Hope'},\n",
       " {'label': 'female', 'name': 'Ike'},\n",
       " {'label': 'female', 'name': 'Ikey'},\n",
       " {'label': 'female', 'name': 'Inger'},\n",
       " {'label': 'female', 'name': 'Iris'},\n",
       " {'label': 'female', 'name': 'Isador'},\n",
       " {'label': 'female', 'name': 'Isadore'},\n",
       " {'label': 'female', 'name': 'Jaime'},\n",
       " {'label': 'female', 'name': 'Jaleh'},\n",
       " {'label': 'female', 'name': 'Jan'},\n",
       " {'label': 'female', 'name': 'Jean'},\n",
       " {'label': 'female', 'name': 'Jere'},\n",
       " {'label': 'female', 'name': 'Jerry'},\n",
       " {'label': 'female', 'name': 'Jo'},\n",
       " {'label': 'female', 'name': 'Jody'},\n",
       " {'label': 'female', 'name': 'Joey'},\n",
       " {'label': 'female', 'name': 'Johannah'},\n",
       " {'label': 'female', 'name': 'Jonell'},\n",
       " {'label': 'female', 'name': 'Jonis'},\n",
       " {'label': 'female', 'name': 'Jordain'},\n",
       " {'label': 'female', 'name': 'Jordan'},\n",
       " {'label': 'female', 'name': 'Jorey'},\n",
       " {'label': 'female', 'name': 'Joy'},\n",
       " {'label': 'female', 'name': 'Judy'},\n",
       " {'label': 'female', 'name': 'Justin'},\n",
       " {'label': 'female', 'name': 'Kaster'},\n",
       " {'label': 'female', 'name': 'Kelley'},\n",
       " {'label': 'female', 'name': 'Kelsey'},\n",
       " {'label': 'female', 'name': 'Kendre'},\n",
       " {'label': 'female', 'name': 'Keren'},\n",
       " {'label': 'female', 'name': 'Kevyn'},\n",
       " {'label': 'female', 'name': 'Kim'},\n",
       " {'label': 'female', 'name': 'Kip'},\n",
       " {'label': 'female', 'name': 'Kipp'},\n",
       " {'label': 'female', 'name': 'Kirby'},\n",
       " {'label': 'female', 'name': 'Koo'},\n",
       " {'label': 'female', 'name': 'Lark'},\n",
       " {'label': 'female', 'name': 'Leigh'},\n",
       " {'label': 'female', 'name': 'Leland'},\n",
       " {'label': 'female', 'name': 'Lesly'},\n",
       " {'label': 'female', 'name': 'Lind'},\n",
       " {'label': 'female', 'name': 'Lou'},\n",
       " {'label': 'female', 'name': 'Lust'},\n",
       " {'label': 'female', 'name': 'Mair'},\n",
       " {'label': 'female', 'name': 'Marigold'},\n",
       " {'label': 'female', 'name': 'Marion'},\n",
       " {'label': 'female', 'name': 'Marlo'},\n",
       " {'label': 'female', 'name': 'Mattie'},\n",
       " {'label': 'female', 'name': 'Matty'},\n",
       " {'label': 'female', 'name': 'Maud'},\n",
       " {'label': 'female', 'name': 'Max'},\n",
       " {'label': 'female', 'name': 'Mead'},\n",
       " {'label': 'female', 'name': 'Meade'},\n",
       " {'label': 'female', 'name': 'Meaghan'},\n",
       " {'label': 'female', 'name': 'Meredith'},\n",
       " {'label': 'female', 'name': 'Merrill'},\n",
       " {'label': 'female', 'name': 'Michal'},\n",
       " {'label': 'female', 'name': 'Michel'},\n",
       " {'label': 'female', 'name': 'Michell'},\n",
       " {'label': 'female', 'name': 'Micky'},\n",
       " {'label': 'female', 'name': 'Mildred'},\n",
       " {'label': 'female', 'name': 'Milicent'},\n",
       " {'label': 'female', 'name': 'Milissent'},\n",
       " {'label': 'female', 'name': 'Millicent'},\n",
       " {'label': 'female', 'name': 'Millisent'},\n",
       " {'label': 'female', 'name': 'Miriam'},\n",
       " {'label': 'female', 'name': 'Morgen'},\n",
       " {'label': 'female', 'name': 'Mureil'},\n",
       " {'label': 'female', 'name': 'Nat'},\n",
       " {'label': 'female', 'name': 'Nert'},\n",
       " {'label': 'female', 'name': 'Nicky'},\n",
       " {'label': 'female', 'name': 'Nil'},\n",
       " {'label': 'female', 'name': 'Nitin'},\n",
       " {'label': 'female', 'name': 'Olive'},\n",
       " {'label': 'female', 'name': 'Olly'},\n",
       " {'label': 'female', 'name': 'Paige'},\n",
       " {'label': 'female', 'name': 'Pam'},\n",
       " {'label': 'female', 'name': 'Pat'},\n",
       " {'label': 'female', 'name': 'Patience'},\n",
       " {'label': 'female', 'name': 'Patrice'},\n",
       " {'label': 'female', 'name': 'Patsy'},\n",
       " {'label': 'female', 'name': 'Pattie'},\n",
       " {'label': 'female', 'name': 'Patty'},\n",
       " {'label': 'female', 'name': 'Peg'},\n",
       " {'label': 'female', 'name': 'Pen'},\n",
       " {'label': 'female', 'name': 'Penny'},\n",
       " {'label': 'female', 'name': 'Pepi'},\n",
       " {'label': 'female', 'name': 'Perry'},\n",
       " {'label': 'female', 'name': 'Pet'},\n",
       " {'label': 'female', 'name': 'Phil'},\n",
       " {'label': 'female', 'name': 'Philis'},\n",
       " {'label': 'female', 'name': 'Phillis'},\n",
       " {'label': 'female', 'name': 'Philly'},\n",
       " {'label': 'female', 'name': 'Pier'},\n",
       " {'label': 'female', 'name': 'Piper'},\n",
       " {'label': 'female', 'name': 'Polly'},\n",
       " {'label': 'female', 'name': 'Pooh'},\n",
       " {'label': 'female', 'name': 'Pris'},\n",
       " {'label': 'female', 'name': 'Quentin'},\n",
       " {'label': 'female', 'name': 'Quinn'},\n",
       " {'label': 'female', 'name': 'Raf'},\n",
       " {'label': 'female', 'name': 'Ragnhild'},\n",
       " {'label': 'female', 'name': 'Rahal'},\n",
       " {'label': 'female', 'name': 'Rahel'},\n",
       " {'label': 'female', 'name': 'Rakel'},\n",
       " {'label': 'female', 'name': 'Randie'},\n",
       " {'label': 'female', 'name': 'Randy'},\n",
       " {'label': 'female', 'name': 'Raven'},\n",
       " {'label': 'female', 'name': 'Ray'},\n",
       " {'label': 'female', 'name': 'Raychel'},\n",
       " {'label': 'female', 'name': 'Raynell'},\n",
       " {'label': 'female', 'name': 'Rayshell'},\n",
       " {'label': 'female', 'name': 'Regan'},\n",
       " {'label': 'female', 'name': 'Reggi'},\n",
       " {'label': 'female', 'name': 'Reggie'},\n",
       " {'label': 'female', 'name': 'Remy'},\n",
       " {'label': 'female', 'name': 'Renae'},\n",
       " {'label': 'female', 'name': 'Renell'},\n",
       " {'label': 'female', 'name': 'Rey'},\n",
       " {'label': 'female', 'name': 'Riannon'},\n",
       " {'label': 'female', 'name': 'Rianon'},\n",
       " {'label': 'female', 'name': 'Rickie'},\n",
       " {'label': 'female', 'name': 'Ricky'},\n",
       " {'label': 'female', 'name': 'Rikki'},\n",
       " {'label': 'female', 'name': 'Robbin'},\n",
       " {'label': 'female', 'name': 'Robinett'},\n",
       " {'label': 'female', 'name': 'Roch'},\n",
       " {'label': 'female', 'name': 'Rochell'},\n",
       " {'label': 'female', 'name': 'Romy'},\n",
       " {'label': 'female', 'name': 'Ros'},\n",
       " {'label': 'female', 'name': 'Row'},\n",
       " {'label': 'female', 'name': 'Ruby'},\n",
       " {'label': 'female', 'name': 'Ruth'},\n",
       " {'label': 'female', 'name': 'Sal'},\n",
       " {'label': 'female', 'name': 'Salome'},\n",
       " {'label': 'female', 'name': 'Sam'},\n",
       " {'label': 'female', 'name': 'Sammy'},\n",
       " {'label': 'female', 'name': 'Sandy'},\n",
       " {'label': 'female', 'name': 'Sayre'},\n",
       " {'label': 'female', 'name': 'Scarlett'},\n",
       " {'label': 'female', 'name': 'Scotty'},\n",
       " {'label': 'female', 'name': 'Sean'},\n",
       " {'label': 'female', 'name': 'Shamit'},\n",
       " {'label': 'female', 'name': 'Shaun'},\n",
       " {'label': 'female', 'name': 'Shel'},\n",
       " {'label': 'female', 'name': 'Shelby'},\n",
       " {'label': 'female', 'name': 'Shell'},\n",
       " {'label': 'female', 'name': 'Sher'},\n",
       " {'label': 'female', 'name': 'Sherill'},\n",
       " {'label': 'female', 'name': 'Sib'},\n",
       " {'label': 'female', 'name': 'Sigrid'},\n",
       " {'label': 'female', 'name': 'Sileas'},\n",
       " {'label': 'female', 'name': 'Sinead'},\n",
       " {'label': 'female', 'name': 'Siobhan'},\n",
       " {'label': 'female', 'name': 'Solange'},\n",
       " {'label': 'female', 'name': 'Star'},\n",
       " {'label': 'female', 'name': 'Starr'},\n",
       " {'label': 'female', 'name': 'Stoddard'},\n",
       " {'label': 'female', 'name': 'Sydney'},\n",
       " {'label': 'female', 'name': 'Tabby'},\n",
       " {'label': 'female', 'name': 'Tally'},\n",
       " {'label': 'female', 'name': 'Tamar'},\n",
       " {'label': 'female', 'name': 'Tarrah'},\n",
       " {'label': 'female', 'name': 'Tatum'},\n",
       " {'label': 'female', 'name': 'Ted'},\n",
       " {'label': 'female', 'name': 'Teddy'},\n",
       " {'label': 'female', 'name': 'Terri-Jo'},\n",
       " {'label': 'female', 'name': 'Terry'},\n",
       " {'label': 'female', 'name': 'Theo'},\n",
       " {'label': 'female', 'name': 'Thomasin'},\n",
       " {'label': 'female', 'name': 'Thomasine'},\n",
       " {'label': 'female', 'name': 'Tiff'},\n",
       " {'label': 'female', 'name': 'Tim'},\n",
       " {'label': 'female', 'name': 'Timmy'},\n",
       " {'label': 'female', 'name': 'Tish'},\n",
       " {'label': 'female', 'name': 'Tobi'},\n",
       " {'label': 'female', 'name': 'Tobie'},\n",
       " {'label': 'female', 'name': 'Toby'},\n",
       " {'label': 'female', 'name': 'Tommie'},\n",
       " {'label': 'female', 'name': 'Tommy'},\n",
       " {'label': 'female', 'name': 'Tony'},\n",
       " {'label': 'female', 'name': 'Torey'},\n",
       " {'label': 'female', 'name': 'Torrie'},\n",
       " {'label': 'female', 'name': 'Tory'},\n",
       " {'label': 'female', 'name': 'Trish'},\n",
       " {'label': 'female', 'name': 'Ulrike'},\n",
       " {'label': 'female', 'name': 'Umeko'},\n",
       " {'label': 'female', 'name': 'Val'},\n",
       " {'label': 'female', 'name': 'Van'},\n",
       " {'label': 'female', 'name': 'Venus'},\n",
       " {'label': 'female', 'name': 'Vin'},\n",
       " {'label': 'female', 'name': 'Wallie'},\n",
       " {'label': 'female', 'name': 'Wallis'},\n",
       " {'label': 'female', 'name': 'Wally'},\n",
       " {'label': 'female', 'name': 'Waly'},\n",
       " {'label': 'female', 'name': 'Wandis'},\n",
       " {'label': 'female', 'name': 'Wendy'},\n",
       " {'label': 'female', 'name': 'Wenonah'},\n",
       " {'label': 'female', 'name': 'Whitney'},\n",
       " {'label': 'female', 'name': 'Willie'},\n",
       " {'label': 'female', 'name': 'Willow'},\n",
       " {'label': 'female', 'name': 'Willy'},\n",
       " {'label': 'female', 'name': 'Willyt'},\n",
       " {'label': 'female', 'name': 'Wilow'},\n",
       " {'label': 'female', 'name': 'Windy'},\n",
       " {'label': 'female', 'name': 'Wini'},\n",
       " {'label': 'female', 'name': 'Winifred'},\n",
       " {'label': 'female', 'name': 'Winnah'},\n",
       " {'label': 'female', 'name': 'Winnie'},\n",
       " {'label': 'female', 'name': 'Winnifred'},\n",
       " {'label': 'female', 'name': 'Winny'},\n",
       " {'label': 'female', 'name': 'Wren'},\n",
       " {'label': 'female', 'name': 'Wynn'},\n",
       " {'label': 'female', 'name': 'Wynny'}]"
      ]
     },
     "execution_count": 17,
     "metadata": {},
     "output_type": "execute_result"
    }
   ],
   "source": [
    "# print gender classifier errors so we can design new features to identify the cases\n",
    "errors = []\n",
    "\n",
    "for (name,label) in names:\n",
    "    if bayes.classify(extract_gender_features(name)) != label:\n",
    "        errors.append({\"name\": name, \"label\": label})\n",
    "        \n",
    "errors"
   ]
  },
  {
   "cell_type": "markdown",
   "metadata": {},
   "source": [
    "## 5.2 Sentiment Analysis"
   ]
  },
  {
   "cell_type": "code",
   "execution_count": 18,
   "metadata": {
    "collapsed": true
   },
   "outputs": [],
   "source": [
    "# sentiment analysis - part #1\n",
    "from nltk.corpus import movie_reviews as reviews\n",
    "import random\n",
    "\n",
    "docs = [(list(reviews.words(id)), cat) for cat in reviews.categories() for id in reviews.fileids(cat)]\n",
    "random.shuffle(docs)\n",
    "\n",
    "#print([ (len(d[0]), d[0][:2], d[1]) for d in docs[:10]])\n",
    "\n",
    "fd = nltk.FreqDist(word.lower() for word in reviews.words())\n",
    "topKeys = [ key for (key,value) in fd.most_common(2000)]"
   ]
  },
  {
   "cell_type": "code",
   "execution_count": 19,
   "metadata": {},
   "outputs": [
    {
     "name": "stdout",
     "output_type": "stream",
     "text": [
      "train accuracy= 0.8775\n",
      "test accuracy= 0.805\n",
      "Most Informative Features\n",
      "             outstanding = True              pos : neg    =     12.6 : 1.0\n",
      "             wonderfully = True              pos : neg    =      7.3 : 1.0\n",
      "                  seagal = True              neg : pos    =      7.0 : 1.0\n",
      "                   mulan = True              pos : neg    =      6.4 : 1.0\n",
      "                   bland = True              neg : pos    =      5.9 : 1.0\n",
      "                  wasted = True              neg : pos    =      5.5 : 1.0\n",
      "                   damon = True              pos : neg    =      5.0 : 1.0\n",
      "                   awful = True              neg : pos    =      4.9 : 1.0\n",
      "                    lame = True              neg : pos    =      4.8 : 1.0\n",
      "               portrayal = True              pos : neg    =      4.7 : 1.0\n",
      "                  poorly = True              neg : pos    =      4.7 : 1.0\n",
      "               fantastic = True              pos : neg    =      4.5 : 1.0\n",
      "                    dull = True              neg : pos    =      4.4 : 1.0\n",
      "                   julie = True              neg : pos    =      4.4 : 1.0\n",
      "                   waste = True              neg : pos    =      4.4 : 1.0\n",
      "              ridiculous = True              neg : pos    =      4.4 : 1.0\n",
      "                   flynt = True              pos : neg    =      4.4 : 1.0\n",
      "                  allows = True              pos : neg    =      4.2 : 1.0\n",
      "                 unfunny = True              neg : pos    =      4.2 : 1.0\n",
      "                   worst = True              neg : pos    =      4.2 : 1.0\n"
     ]
    }
   ],
   "source": [
    "# sentiment analysis - part #2\n",
    "import nltk\n",
    "\n",
    "def review_features(doc):\n",
    "    docSet = set(doc)\n",
    "    features = {}\n",
    "    \n",
    "    for word in topKeys:\n",
    "        features[word] = (word in docSet)\n",
    "    \n",
    "    return features\n",
    "\n",
    "#review_features(reviews.words(\"pos/cv957_8737.txt\"))\n",
    "\n",
    "data = [(review_features(doc), label) for (doc,label) in docs]\n",
    "\n",
    "dataCount = len(data)\n",
    "trainCount = int(.8*dataCount)\n",
    "\n",
    "trainData = data[:trainCount]\n",
    "testData = data[trainCount:]\n",
    "bayes2 = nltk.NaiveBayesClassifier.train(trainData)\n",
    "\n",
    "print(\"train accuracy=\", nltk.classify.accuracy(bayes2, trainData))\n",
    "print(\"test accuracy=\", nltk.classify.accuracy(bayes2, testData))\n",
    "\n",
    "bayes2.show_most_informative_features(20)"
   ]
  },
  {
   "cell_type": "code",
   "execution_count": null,
   "metadata": {
    "collapsed": true
   },
   "outputs": [],
   "source": []
  }
 ],
 "metadata": {
  "kernelspec": {
   "display_name": "Python 3",
   "language": "python",
   "name": "python3"
  },
  "language_info": {
   "codemirror_mode": {
    "name": "ipython",
    "version": 3
   },
   "file_extension": ".py",
   "mimetype": "text/x-python",
   "name": "python",
   "nbconvert_exporter": "python",
   "pygments_lexer": "ipython3",
   "version": "3.6.3"
  }
 },
 "nbformat": 4,
 "nbformat_minor": 2
}
